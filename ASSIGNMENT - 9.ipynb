{
 "cells": [
  {
   "cell_type": "markdown",
   "metadata": {},
   "source": [
    "## ASSIGNMENT - 9"
   ]
  },
  {
   "cell_type": "markdown",
   "metadata": {},
   "source": [
    "1. What is a lambda function in Python, and how does it differ from a regular function?\n",
    "\n",
    "Ans. Lambda functions are different from regular functions in a few ways:\n",
    "\n",
    "Syntax: Lambda functions have a concise syntax compared to regular functions. They are typically used for simple, one-line functions.\n",
    "\n",
    "Anonymous: Lambda functions are anonymous, meaning they don't have a name. \n",
    "\n",
    "They are usually defined and used inline, without assigning them to a variable.\n",
    "\n",
    "Single Expression: Lambda functions are restricted to a single expression. \n",
    "    \n",
    "They are not designed to handle complex logic or multiple statements. If you need to write a more complex function, a\n",
    "regular function is more suitable.\n",
    "\n",
    "Function Object: Lambda functions return a function object. They can be assigned to variables and used as arguments for other functions."
   ]
  },
  {
   "cell_type": "code",
   "execution_count": 1,
   "metadata": {},
   "outputs": [
    {
     "name": "stdout",
     "output_type": "stream",
     "text": [
      "Regular Function: 15\n",
      "Lambda Function: 15\n"
     ]
    }
   ],
   "source": [
    "#Regular function\n",
    "def multiply(x, y):\n",
    "    return x * y\n",
    "\n",
    "#Lambda function\n",
    "multiply_lambda = lambda x, y: x * y\n",
    "\n",
    "#Call the regular function\n",
    "result_regular = multiply(5, 3)\n",
    "print(\"Regular Function:\", result_regular)\n",
    "\n",
    "#Call the lambda function\n",
    "result_lambda = multiply_lambda(5, 3)\n",
    "print(\"Lambda Function:\", result_lambda)"
   ]
  },
  {
   "cell_type": "markdown",
   "metadata": {},
   "source": [
    "2. Can a lambda function in Python have multiple arguments? If yes, how can you define and use them?\n",
    "\n",
    "Ans. Yes, a lambda function in Python can have multiple arguments. \n",
    "\n",
    "You can define and use multiple arguments in a lambda function by separating them with commas, just like in a regular function."
   ]
  },
  {
   "cell_type": "code",
   "execution_count": 2,
   "metadata": {},
   "outputs": [
    {
     "name": "stdout",
     "output_type": "stream",
     "text": [
      "15\n"
     ]
    }
   ],
   "source": [
    "#Lambda function with multiple arguments\n",
    "multiply = lambda x, y: x * y\n",
    "\n",
    "#Call the lambda function with multiple arguments\n",
    "result = multiply(5, 3)\n",
    "print(result)\n"
   ]
  },
  {
   "cell_type": "markdown",
   "metadata": {},
   "source": [
    "3. How are lambda functions typically used in Python? Provide an example use case.\n",
    "\n",
    "Ans. Lambda functions in Python are typically used as a convenient way to create small, anonymous functions on the fly. \n",
    "\n",
    "They are particularly useful in situations where you need a simple function for a short period of time and don't want to define a full-fledged named function."
   ]
  },
  {
   "cell_type": "code",
   "execution_count": 3,
   "metadata": {},
   "outputs": [
    {
     "name": "stdout",
     "output_type": "stream",
     "text": [
      "[2, 4, 6, 8, 10]\n"
     ]
    }
   ],
   "source": [
    "#List of numbers\n",
    "numbers = [1, 2, 3, 4, 5]\n",
    "\n",
    "#Use map() with a lambda function to double each number\n",
    "doubled_numbers = map(lambda x: x * 2, numbers)\n",
    "\n",
    "#Print the doubled numbers\n",
    "print(list(doubled_numbers))\n"
   ]
  },
  {
   "cell_type": "markdown",
   "metadata": {},
   "source": [
    "4. What are the advantages and limitations of lambda functions compared to regular functions in Python?\n",
    "\n",
    "Ans. \n",
    "\n",
    "#Advantages of Lambda Functions:\n",
    "\n",
    " 1) Concise Syntax: Lambda functions allow you to define small, anonymous functions with a compact syntax, \n",
    "    which can make your code more readable and concise.\n",
    "\n",
    " 2) Single Expression: Lambda functions are limited to a single expression, which makes them well-suited for simple, one-line operations.\n",
    "\n",
    " 3) Functionality On-the-Fly: Lambda functions are often used in situations where you need a quick \n",
    "    function definition for a specific task without the need to define a separate named function.\n",
    "\n",
    " 4) Immediate Use: Lambda functions can be created and used immediately without assigning them to a variable, \n",
    "    making them convenient for one-time use cases.\n",
    "\n",
    "#Limitations of Lambda Functions:\n",
    "\n",
    "1) Single Expression Restriction: Lambda functions are limited to a single expression, \n",
    "   which means they cannot contain multiple statements or complex logic. \n",
    "   If you need more functionality, you should use a regular named function.\n",
    "\n",
    "2) No Documentation String: Lambda functions cannot have a documentation string (docstring), \n",
    "   which is useful for documenting the purpose and usage of a function.\n",
    "\n",
    "3) No Named Function: Lambda functions are anonymous, meaning they have no name associated with them. \n",
    "   This can make it difficult to reuse or reference the function in other parts of the code.\n",
    "\n",
    "4) Limited Readability: While lambda functions can make code more concise, \n",
    "   they can also make it harder to understand if the expression becomes too complex or if they are used excessively."
   ]
  },
  {
   "cell_type": "markdown",
   "metadata": {},
   "source": [
    "5. Are lambda functions in Python able to access variables defined outside of their own scope? Explain with an example.\n",
    "\n",
    "Ans. Yes, lambda functions in Python can access variables defined outside of their own scope. \n",
    "\n",
    "This is because lambda functions have access to the variables in the surrounding scope in which they are defined.\n",
    "\n",
    "This concept is known as \"lexical scoping\" or \"closure\"."
   ]
  },
  {
   "cell_type": "code",
   "execution_count": 4,
   "metadata": {},
   "outputs": [
    {
     "name": "stdout",
     "output_type": "stream",
     "text": [
      "50\n"
     ]
    }
   ],
   "source": [
    "#Example\n",
    "\n",
    "def multiplier(n):\n",
    "    return lambda x: x * n\n",
    "\n",
    "# Create a lambda function that multiplies a number by 5\n",
    "multiply_by_5 = multiplier(5)\n",
    "\n",
    "# Use the lambda function to multiply a number by 5\n",
    "result = multiply_by_5(10)\n",
    "print(result)  \n"
   ]
  },
  {
   "cell_type": "markdown",
   "metadata": {},
   "source": [
    "6. Write a lambda function to calculate the square of a given number."
   ]
  },
  {
   "cell_type": "code",
   "execution_count": 5,
   "metadata": {},
   "outputs": [
    {
     "name": "stdout",
     "output_type": "stream",
     "text": [
      "49\n"
     ]
    }
   ],
   "source": [
    "square = lambda x : x ** 2\n",
    "result = square(7)\n",
    "print(result)"
   ]
  },
  {
   "cell_type": "markdown",
   "metadata": {},
   "source": [
    "7. Create a lambda function to find the maximum value in a list of integers."
   ]
  },
  {
   "cell_type": "code",
   "execution_count": 6,
   "metadata": {},
   "outputs": [
    {
     "name": "stdout",
     "output_type": "stream",
     "text": [
      "9\n"
     ]
    }
   ],
   "source": [
    "find_max = lambda lst : max(lst)\n",
    "numbers = [5, 2, 9, 1, 7]\n",
    "result = find_max(numbers)\n",
    "print(result)  "
   ]
  },
  {
   "cell_type": "markdown",
   "metadata": {},
   "source": [
    "8. Implement a lambda function to filter out all the even numbers from a list of integers."
   ]
  },
  {
   "cell_type": "code",
   "execution_count": 7,
   "metadata": {},
   "outputs": [
    {
     "name": "stdout",
     "output_type": "stream",
     "text": [
      "[2, 4, 6, 8, 10]\n"
     ]
    }
   ],
   "source": [
    "filter_even = lambda lst: list(filter(lambda x: x % 2 == 0, lst))\n",
    "numbers = [1, 2, 3, 4, 5, 6, 7, 8, 9, 10]\n",
    "result = filter_even(numbers)\n",
    "print(result) "
   ]
  },
  {
   "cell_type": "markdown",
   "metadata": {},
   "source": [
    "9. Write a lambda function to sort a list of strings in ascending order based on the length of each string."
   ]
  },
  {
   "cell_type": "code",
   "execution_count": 8,
   "metadata": {},
   "outputs": [
    {
     "name": "stdout",
     "output_type": "stream",
     "text": [
      "['date', 'apple', 'banana', 'cherry', 'elderberry']\n"
     ]
    }
   ],
   "source": [
    "sort_by_length = lambda lst: sorted(lst, key=lambda x: len(x))\n",
    "strings = [\"apple\", \"banana\", \"cherry\", \"date\", \"elderberry\"]\n",
    "result = sort_by_length(strings)\n",
    "print(result)  "
   ]
  },
  {
   "cell_type": "markdown",
   "metadata": {},
   "source": [
    "Ques 10. Create a lambda function that takes two lists as input and returns a new list containing the\n",
    "common elements between the two lists."
   ]
  },
  {
   "cell_type": "code",
   "execution_count": 9,
   "metadata": {},
   "outputs": [
    {
     "name": "stdout",
     "output_type": "stream",
     "text": [
      "[4, 5]\n"
     ]
    }
   ],
   "source": [
    "find_common_elements = lambda list1, list2: list(filter(lambda x: x in list1, list2))\n",
    "list1 = [1, 2, 3, 4, 5]\n",
    "list2 = [4, 5, 6, 7, 8]\n",
    "result = find_common_elements(list1, list2)\n",
    "print(result) "
   ]
  },
  {
   "cell_type": "markdown",
   "metadata": {},
   "source": [
    "11. Write a recursive function to calculate the factorial of a given positive integer."
   ]
  },
  {
   "cell_type": "code",
   "execution_count": 10,
   "metadata": {},
   "outputs": [
    {
     "name": "stdout",
     "output_type": "stream",
     "text": [
      "The factorial of 8 is: 40320\n"
     ]
    }
   ],
   "source": [
    "def factorial(n):\n",
    "    if n == 0:\n",
    "        return 1\n",
    "    else:\n",
    "        return n * factorial(n - 1)\n",
    "\n",
    "num = 8\n",
    "result = factorial(num)\n",
    "print(f\"The factorial of {num} is: {result}\") "
   ]
  },
  {
   "cell_type": "markdown",
   "metadata": {},
   "source": [
    "12. Implement a recursive function to compute the nth Fibonacci number."
   ]
  },
  {
   "cell_type": "code",
   "execution_count": 11,
   "metadata": {},
   "outputs": [
    {
     "name": "stdout",
     "output_type": "stream",
     "text": [
      "The 8th Fibonacci number is: 21\n"
     ]
    }
   ],
   "source": [
    "def fibonacci(n):\n",
    "    if n <= 0:\n",
    "        return 0\n",
    "    elif n == 1:\n",
    "        return 1\n",
    "    else:\n",
    "        return fibonacci(n - 1) + fibonacci(n - 2)\n",
    "n = 8\n",
    "result = fibonacci(n)\n",
    "print(f\"The {n}th Fibonacci number is: {result}\") "
   ]
  },
  {
   "cell_type": "markdown",
   "metadata": {},
   "source": [
    "13. Create a recursive function to find the sum of all the elements in a given list."
   ]
  },
  {
   "cell_type": "code",
   "execution_count": 12,
   "metadata": {},
   "outputs": [
    {
     "name": "stdout",
     "output_type": "stream",
     "text": [
      "The sum of the elements is: 24\n"
     ]
    }
   ],
   "source": [
    "def list_sum(lst):\n",
    "    if not lst:\n",
    "        return 0\n",
    "    else:\n",
    "        return lst[0] + list_sum(lst[1:])\n",
    "my_list = [1, 9, 4, 3, 7]\n",
    "result = list_sum(my_list)\n",
    "print(f\"The sum of the elements is: {result}\")"
   ]
  },
  {
   "cell_type": "markdown",
   "metadata": {},
   "source": [
    "14. Write a recursive function to determine whether a given string is a palindrome."
   ]
  },
  {
   "cell_type": "code",
   "execution_count": 13,
   "metadata": {},
   "outputs": [
    {
     "name": "stdout",
     "output_type": "stream",
     "text": [
      "The string is a palindrome.\n"
     ]
    }
   ],
   "source": [
    "def is_palindrome(string):\n",
    "    if len(string) <= 1:\n",
    "        return True\n",
    "    else:\n",
    "        if string[0] == string[-1]:\n",
    "            return is_palindrome(string[1:-1])\n",
    "        else:\n",
    "            return False\n",
    "        \n",
    "my_string = \"level\"\n",
    "result = is_palindrome(my_string)\n",
    "if result:\n",
    "    print(\"The string is a palindrome.\")\n",
    "else:\n",
    "    print(\"The string is not a palindrome.\")"
   ]
  },
  {
   "cell_type": "markdown",
   "metadata": {},
   "source": [
    "15. Implement a recursive function to find the greatest common divisor (GCD) of two positive integers."
   ]
  },
  {
   "cell_type": "code",
   "execution_count": 14,
   "metadata": {},
   "outputs": [
    {
     "name": "stdout",
     "output_type": "stream",
     "text": [
      "The GCD of 12 and 36 is: 12\n"
     ]
    }
   ],
   "source": [
    "def gcd(a, b):\n",
    "    if b == 0:\n",
    "        return a\n",
    "    else:\n",
    "        return gcd(b, a % b)\n",
    "\n",
    "num1 = 12\n",
    "num2 = 36\n",
    "result = gcd(num1, num2)\n",
    "print(\"The GCD of\", num1, \"and\", num2, \"is:\", result)"
   ]
  }
 ],
 "metadata": {
  "kernelspec": {
   "display_name": "Python 3",
   "language": "python",
   "name": "python3"
  },
  "language_info": {
   "codemirror_mode": {
    "name": "ipython",
    "version": 3
   },
   "file_extension": ".py",
   "mimetype": "text/x-python",
   "name": "python",
   "nbconvert_exporter": "python",
   "pygments_lexer": "ipython3",
   "version": "3.8.8"
  }
 },
 "nbformat": 4,
 "nbformat_minor": 2
}
