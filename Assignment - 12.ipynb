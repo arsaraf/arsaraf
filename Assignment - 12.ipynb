{
 "cells": [
  {
   "cell_type": "markdown",
   "metadata": {},
   "source": [
    "## Assignment - 12"
   ]
  },
  {
   "cell_type": "markdown",
   "metadata": {},
   "source": [
    " 1. What is the primary goal of Object-Oriented Programming (OOP)?"
   ]
  },
  {
   "cell_type": "markdown",
   "metadata": {},
   "source": [
    "Primary goal of Object Oriented Programming :- \n",
    "\n",
    "* The main concept of OOPs is to bind the data and the functions that work on that together as a single unit so that no other part of the code can access this data.\n",
    "\n",
    "* To hold entire data into a single object such that it would be easy to pass this to other methods and objects.\n",
    "\n",
    "* To organize any application or software design around data, or objects, rather than functions and logic.\n",
    "\n",
    "* OOPs makes it easy to handle large, complex and actively updated programs, projects, or applications using its principals"
   ]
  },
  {
   "cell_type": "markdown",
   "metadata": {},
   "source": [
    "2. What is an object in Python?"
   ]
  },
  {
   "cell_type": "markdown",
   "metadata": {},
   "source": [
    "In Python, everything is an object. \n",
    "\n",
    "Basically, an Object is a single instance of a Class. \n",
    "\n",
    "And a Class, is like a blueprint, while instance is a copy of the Class with actual/real values.\n",
    "\n",
    "In other words, Object is an encapsulation of data along with functions which can act upon that data.\n",
    "\n",
    "An Object consists of \n",
    "* Name - its the variable name we give while creating.\n",
    "* Member Data - its the data that describe the object\n",
    "* Member Function - its the bhehavioural aspect of the object which are treated as functions"
   ]
  },
  {
   "cell_type": "markdown",
   "metadata": {},
   "source": [
    "3. What is a class in Python?"
   ]
  },
  {
   "cell_type": "markdown",
   "metadata": {},
   "source": [
    "Class is a blueprint which actually describes the design of how an object would be like."
   ]
  },
  {
   "cell_type": "markdown",
   "metadata": {},
   "source": [
    "4. What are attributes and methods in a class?"
   ]
  },
  {
   "cell_type": "markdown",
   "metadata": {},
   "source": [
    "**Attributes**: Any variables written in a class are called attributes. These are the placeholders for data which the object will hold once created.\n",
    "\n",
    "**Methods**: Any functions written in a class are called methods. Methods receive an instance of the class (called `self`) , as the first argument.\n"
   ]
  },
  {
   "cell_type": "markdown",
   "metadata": {},
   "source": [
    "5. What is the difference between class variables and instance variables in Python?"
   ]
  },
  {
   "cell_type": "markdown",
   "metadata": {},
   "source": [
    "**Class Variables**: \n",
    "* These are the variables that are declared within the class at a class level but outside any instance method or __init__ method \n",
    "* it doesnt gets initialised each time a class instance is created\n",
    "* it is shared by all instances of a class\n",
    "\n",
    "**Instance Variables**: \n",
    "* These are the variables that are declared within the instance method or __init__ method\n",
    "* it gets initialised each time a class instance is created."
   ]
  },
  {
   "cell_type": "markdown",
   "metadata": {},
   "source": [
    "6. What is the purpose of the self parameter in Python class methods?"
   ]
  },
  {
   "cell_type": "markdown",
   "metadata": {},
   "source": [
    "* `self` parameter is used as a first argument in a class method.\n",
    "* Its purpose is to create a reference of the class instance to the class methods and attributes so that they can be accessed."
   ]
  },
  {
   "cell_type": "markdown",
   "metadata": {},
   "source": [
    "7. For a library management system, you have to design the \"Book\" class with OOP principles in mind. \n",
    "\n",
    "The “Book” class will have following attributes:\n",
    "* title: Represents the title of the book.\n",
    "* author: Represents the author(s) of the book.\n",
    "* isbn: Represents the ISBN (International Standard Book Number) of the book.\n",
    "* publication_year: Represents the year of publication of the book.\n",
    "* available_copies: Represents the number of copies available for checkout.\n",
    "\n",
    "The class will also include the following methods:\n",
    "* check_out(self): Decrements the available copies by one if there are copies\n",
    "available for checkout.\n",
    "* return_book(self): Increments the available copies by one when a book is\n",
    "returned.\n",
    "* display_book_info(self): Displays the information about the book, including its\n",
    "attributes and the number of available copies."
   ]
  },
  {
   "cell_type": "code",
   "execution_count": 1,
   "metadata": {},
   "outputs": [
    {
     "name": "stdout",
     "output_type": "stream",
     "text": [
      "\n",
      "BOOK TITLE: Saffron Swords\n",
      "BOOK AUTHOR: Manoshi Sinha\n",
      "ISBN: 219758707688042890083970146754730708658\n",
      "PUB YEAR: 2023\n",
      "REMAINING_COPIES: 100\n",
      "\n",
      "Saffron Swords book has been checkout\n",
      "Saffron Swords book has been checkout\n",
      "Saffron Swords book has been checkout\n",
      "\n",
      "BOOK TITLE: Saffron Swords\n",
      "BOOK AUTHOR: Manoshi Sinha\n",
      "ISBN: 219758707688042890083970146754730708658\n",
      "PUB YEAR: 2023\n",
      "REMAINING_COPIES: 97\n",
      "\n",
      "Saffron Swords book has been returned\n",
      "\n",
      "BOOK TITLE: Saffron Swords\n",
      "BOOK AUTHOR: Manoshi Sinha\n",
      "ISBN: 219758707688042890083970146754730708658\n",
      "PUB YEAR: 2023\n",
      "REMAINING_COPIES: 98\n",
      "\n"
     ]
    }
   ],
   "source": [
    "import uuid\n",
    "\n",
    "class Book:\n",
    "    original_copies = 0\n",
    "    \n",
    "    def __init__(self, title: str, author: str, publication_year: str, available_copies: int):\n",
    "        \"\"\"\n",
    "        title: Represents the title of the book.\n",
    "        author: Represents the author(s) of the book.\n",
    "        isbn: Represents the ISBN (International Standard Book Number) of the book.\n",
    "        publication_year: Represents the year of publication of the book.\n",
    "        available_copies: Represents the number of copies available for checkout.\n",
    "        \"\"\"\n",
    "        self.title = title\n",
    "        self.author = author\n",
    "        self.isbn = uuid.uuid1().int  # This is one of the way to generate unique identifiers.\n",
    "        self.publication_year = publication_year\n",
    "        self.available_copies = available_copies\n",
    "        Book.original_copies = available_copies  # To keep a copy of actual original copies\n",
    "    \n",
    "    def check_out(self):\n",
    "        \"\"\"\n",
    "        Decrements the available copies by one if there are copies available for checkout.\n",
    "        \"\"\"\n",
    "        if self.available_copies > 0:\n",
    "            self.available_copies -= 1\n",
    "            print(f\"{self.title} book has been checkout\")\n",
    "        else:\n",
    "            print(\"There are no available copies left. Try later.\")\n",
    "    \n",
    "    def return_book(self):\n",
    "        \"\"\"\n",
    "        Increments the available copies by one when a book is returned.\n",
    "        \"\"\"\n",
    "        if Book.original_copies >= self.available_copies:\n",
    "            self.available_copies += 1\n",
    "            print(f\"{self.title} book has been returned\")\n",
    "        else:\n",
    "            print(\"All available books are already returned back\")\n",
    "        \n",
    "    def display_book_info(self):\n",
    "        \"\"\"\n",
    "        Displays the information about the book, including its attributes and the number of available copies.\n",
    "        \"\"\"\n",
    "        print(f\"\\nBOOK TITLE: {self.title}\\nBOOK AUTHOR: {self.author}\\nISBN: {self.isbn}\\nPUB YEAR: {self.publication_year}\\nREMAINING_COPIES: {self.available_copies}\\n\")\n",
    "        \n",
    "        \n",
    "b1 = Book(\"Saffron Swords\", \"Manoshi Sinha\", '2023', 100)\n",
    "b1.display_book_info()\n",
    "\n",
    "# Checkout 3 copies of the book\n",
    "b1.check_out()\n",
    "b1.check_out()\n",
    "b1.check_out()\n",
    "b1.display_book_info()\n",
    "\n",
    "# Return 1 copy of the book\n",
    "b1.return_book()\n",
    "b1.display_book_info()"
   ]
  },
  {
   "cell_type": "markdown",
   "metadata": {},
   "source": [
    "8. For a ticket booking system, you have to design the \"Ticket\" class with OOP principles in mind. \n",
    "\n",
    "The “Ticket” class should have the following attributes:\n",
    "* ticket_id: Represents the unique identifier for the ticket.\n",
    "* event_name: Represents the name of the event.\n",
    "* event_date: Represents the date of the event.\n",
    "* venue: Represents the venue of the event.\n",
    "* seat_number: Represents the seat number associated with the ticket.\n",
    "* price: Represents the price of the ticket.\n",
    "* is_reserved: Represents the reservation status of the ticket.\n",
    "\n",
    "The class also includes the following methods:\n",
    "* reserve_ticket(self): Marks the ticket as reserved if it is not already reserved.\n",
    "* cancel_reservation(self): Cancels the reservation of the ticket if it is already\n",
    "reserved.\n",
    "* display_ticket_info(self): Displays the information about the ticket, including its\n",
    "attributes and reservation status."
   ]
  },
  {
   "cell_type": "code",
   "execution_count": 2,
   "metadata": {},
   "outputs": [
    {
     "name": "stdout",
     "output_type": "stream",
     "text": [
      "Your seat is reserved\n",
      "\n",
      "EVENT NAME: Train Journey \n",
      "EVENT DATE: 11-Jul-2023 \n",
      "VENUE: Pune to Mumbai \n",
      "RESERVATION STATUS: Booked \n",
      "SEAT NUMBER: 59 \n",
      "PRICE: 180\n",
      "\n",
      "Your reservation is cancelled\n",
      "\n",
      "EVENT NAME: Train Journey \n",
      "EVENT DATE: 11-Jul-2023 \n",
      "VENUE: Pune to Mumbai \n",
      "RESERVATION STATUS: Not Booked \n",
      "SEAT NUMBER:  \n",
      "PRICE: \n",
      "\n"
     ]
    }
   ],
   "source": [
    "import random\n",
    "import uuid\n",
    "\n",
    "class Ticket:\n",
    "    def __init__(self, event_name: str, event_date: str, venue: str, price: float) -> None:\n",
    "        \"\"\"\n",
    "        ticket_id: Represents the unique identifier for the ticket.\n",
    "        event_name: Represents the name of the event.\n",
    "        event_date: Represents the date of the event.\n",
    "        venue: Represents the venue of the event.\n",
    "        seat_number: Represents the seat number associated with the ticket.\n",
    "        price: Represents the price of the ticket.\n",
    "        is_reserved: Represents the reservation status of the ticket.\n",
    "        \"\"\"\n",
    "        self.ticket_id = uuid.uuid1().int\n",
    "        self.event_name = event_name\n",
    "        self.event_date = event_date\n",
    "        self.venue = venue\n",
    "        self.seat_number = random.randint(1,72)\n",
    "        self.price = price\n",
    "        self.is_reserved = False\n",
    "        \n",
    "    def reserve_ticket(self):\n",
    "        \"\"\"\n",
    "        Marks the ticket as reserved if it is not already reserved.\n",
    "        \"\"\"\n",
    "        if not self.is_reserved:\n",
    "            self.is_reserved = True\n",
    "            print(\"Your seat is reserved\")\n",
    "        else:\n",
    "            print(\"You already have your seat reserved\")\n",
    "            \n",
    "    \n",
    "    def cancel_reservation(self):\n",
    "        \"\"\"\n",
    "        Cancels the reservation of the ticket if it is already reserved.\n",
    "        \"\"\"\n",
    "        if self.is_reserved:\n",
    "            self.is_reserved = False\n",
    "            print(\"Your reservation is cancelled\")\n",
    "        else:\n",
    "            print(\"You don't have any reservation\")\n",
    "    \n",
    "    def display_ticket_info(self):\n",
    "        \"\"\"\n",
    "        Displays the information about the ticket, including its attributes and reservation status.\n",
    "        \"\"\"\n",
    "        print(f\"\\nEVENT NAME: {self.event_name} \\nEVENT DATE: {self.event_date} \\nVENUE: {self.venue} \\nRESERVATION STATUS: {'Booked' if self.is_reserved else 'Not Booked'} \\nSEAT NUMBER: {self.seat_number if self.is_reserved else ''} \\nPRICE: {self.price if self.is_reserved else ''}\\n\")\n",
    "        \n",
    "ticket1 = Ticket(event_name=\"Train Journey\", event_date=\"11-Jul-2023\", venue=\"Pune to Mumbai\", price=180)\n",
    "\n",
    "# Reserve a seat\n",
    "ticket1.reserve_ticket()\n",
    "ticket1.display_ticket_info()\n",
    "\n",
    "# Cancel reservation\n",
    "ticket1.cancel_reservation()\n",
    "ticket1.display_ticket_info()"
   ]
  },
  {
   "cell_type": "markdown",
   "metadata": {},
   "source": [
    "9. You are creating a shopping cart for an e-commerce website. \n",
    "Using OOP to model the \"ShoppingCart\" functionality the class should contain following attributes and methods:\n",
    "* items: Represents the list of items in the shopping cart. \n",
    "\n",
    "The class also includes the following methods:\n",
    "\n",
    "* add_item(self, item): Adds an item to the shopping cart by appending it to the list of items.\n",
    "* remove_item(self, item): Removes an item from the shopping cart if it exists in the list.\n",
    "* view_cart(self): Displays the items currently present in the shopping cart.\n",
    "* clear_cart(self): Clears all items from the shopping cart by reassigning an\n",
    "empty list to the items attribute."
   ]
  },
  {
   "cell_type": "code",
   "execution_count": 3,
   "metadata": {},
   "outputs": [
    {
     "name": "stdout",
     "output_type": "stream",
     "text": [
      "Noodles is added to your cart\n",
      "Cereals is added to your cart\n",
      "Dairy Products is added to your cart\n",
      "\n",
      "Items in your cart\n",
      "1 - Noodles\n",
      "2 - Cereals\n",
      "3 - Dairy products\n",
      "\n",
      "\n",
      "Dairy Products is removed from your cart\n",
      "\n",
      "Items in your cart\n",
      "1 - Noodles\n",
      "2 - Cereals\n",
      "\n",
      "\n",
      "Staples is added to your cart\n",
      "\n",
      "Items in your cart\n",
      "1 - Noodles\n",
      "2 - Cereals\n",
      "3 - Staples\n",
      "\n",
      "\n",
      "All items in your cart are removed\n"
     ]
    }
   ],
   "source": [
    "class ShoppingCart:\n",
    "    def __init__(self) -> None:\n",
    "        self.items = []\n",
    "        \n",
    "    def add_items(self, item: str):\n",
    "        \"\"\"\n",
    "        Adds an item to the shopping cart by appending it to the list of items.\n",
    "        \"\"\"\n",
    "        self.items.append(item.capitalize())\n",
    "        print(f\"{item} is added to your cart\")\n",
    "        \n",
    "    def remove_item(self, item: str):\n",
    "        \"\"\"\n",
    "        Removes an item from the shopping cart if it exists in the list.\n",
    "        \"\"\"\n",
    "        self.items.remove(item.capitalize())\n",
    "        print(f\"{item} is removed from your cart\")\n",
    "    \n",
    "    def view_cart(self):\n",
    "        \"\"\"\n",
    "        Displays the items currently present in the shopping cart.\n",
    "        \"\"\"\n",
    "        print(f\"\\nItems in your cart\")\n",
    "        for index, item in enumerate(self.items):\n",
    "            print(f\"{index+1} - {item.capitalize()}\")\n",
    "        print(\"\\n\")\n",
    "    \n",
    "    def clear_cart(self):\n",
    "        \"\"\"\n",
    "        Clears all items from the shopping cart by reassigning an empty list to the items attribute.\n",
    "        \"\"\"\n",
    "        self.items = []\n",
    "        print(\"All items in your cart are removed\")\n",
    "        \n",
    "\n",
    "cart = ShoppingCart()\n",
    "\n",
    "# Add three items in the cart\n",
    "cart.add_items(\"Noodles\")\n",
    "cart.add_items(\"Cereals\")\n",
    "cart.add_items(\"Dairy Products\")\n",
    "cart.view_cart()\n",
    "\n",
    "# Remove an item from the cart\n",
    "cart.remove_item(\"Dairy Products\")\n",
    "cart.view_cart()\n",
    "\n",
    "# Add again one item in the cart\n",
    "cart.add_items(\"Staples\")\n",
    "cart.view_cart()\n",
    "\n",
    "# Empty your cart\n",
    "cart.clear_cart()"
   ]
  },
  {
   "cell_type": "markdown",
   "metadata": {},
   "source": [
    "10. Imagine a school management system. You have to design the \"Student\" class using OOP concepts.\n",
    "\n",
    "The “Student” class has the following attributes:\n",
    "* name: Represents the name of the student.\n",
    "* age: Represents the age of the student.\n",
    "* grade: Represents the grade or class of the student.\n",
    "* student_id: Represents the unique identifier for the student.\n",
    "* attendance: Represents the attendance record of the student.\n",
    "\n",
    "The class should also include the following methods:\n",
    "* update_attendance(self, date, status): Updates the attendance record of the\n",
    "student for a given date with the provided status (e.g., present or absent).\n",
    "* get_attendance(self): Returns the attendance record of the student.\n",
    "* get_average_attendance(self): Calculates and returns the average\n",
    "attendance percentage of the student based on their attendance record."
   ]
  },
  {
   "cell_type": "code",
   "execution_count": 4,
   "metadata": {},
   "outputs": [
    {
     "name": "stdout",
     "output_type": "stream",
     "text": [
      "Ankita's attendance report:\n",
      "01-JUL-23 - PRESENT\n",
      "02-JUL-23 - PRESENT\n",
      "03-JUL-23 - ABSENT\n",
      "04-JUL-23 - PRESENT\n",
      "05-JUL-23 - PRESENT\n",
      "06-JUL-23 - ABSENT\n",
      "07-JUL-23 - PRESENT\n",
      "Average Attendance of Ankita for the period of 7 days is 71.43 %\n"
     ]
    }
   ],
   "source": [
    "import uuid  \n",
    "class Student:\n",
    "    def __init__(self, name: str, age: int, grade: str) -> None:\n",
    "        \"\"\"\n",
    "        name: Represents the name of the student.\n",
    "        age: Represents the age of the student.\n",
    "        grade: Represents the grade or class of the student.\n",
    "        student_id: Represents the unique identifier for the student.\n",
    "        attendance: Represents the attendance record of the student.\n",
    "        \"\"\"\n",
    "        self.name = name.capitalize()\n",
    "        self.age = age\n",
    "        self.grade = grade\n",
    "        self.student_id = uuid.uuid1().int  # This will generate unique identifier for each student object created\n",
    "        self.attendance = {}\n",
    "    \n",
    "    def update_attendance(self, date: str, status: bool):\n",
    "        \"\"\"\n",
    "        Updates the attendance record of the student for a given date with the provided status (e.g., present or absent).\n",
    "        \"\"\"\n",
    "        self.attendance[date] = \"PRESENT\" if status else \"ABSENT\"\n",
    "    \n",
    "    def get_attendance(self):\n",
    "        \"\"\"\n",
    "        Returns the attendance record of the student.\n",
    "        \"\"\"\n",
    "        print(f\"{self.name}'s attendance report:\")\n",
    "        for date, status in self.attendance.items():\n",
    "            print(f\"{date} - {status}\")\n",
    "    \n",
    "    def get_average_attendance(self):\n",
    "        \"\"\"\n",
    "        Calculates and returns the average attendance percentage of the student based on their attendance record.\n",
    "        \"\"\"\n",
    "        total_number_of_school_days = len(self.attendance)\n",
    "        print(f\"Average Attendance of {self.name} for the period of {total_number_of_school_days} days is {round([v for v in self.attendance.values()].count('PRESENT') / total_number_of_school_days * 100, 2)} %\")\n",
    "            \n",
    "s1 = Student(name=\"Ankita\", age=25, grade=\"A\")\n",
    "\n",
    "# Consider we will record a week of attendance for the student with mix of Presents (True) & Absents (False)\n",
    "s1.update_attendance(\"01-JUL-23\", True)\n",
    "s1.update_attendance(\"02-JUL-23\", True)\n",
    "s1.update_attendance(\"03-JUL-23\", False)\n",
    "s1.update_attendance(\"04-JUL-23\", True)\n",
    "s1.update_attendance(\"05-JUL-23\", True)\n",
    "s1.update_attendance(\"06-JUL-23\", False)\n",
    "s1.update_attendance(\"07-JUL-23\", True)\n",
    "\n",
    "# We want to get the attendance report of the student\n",
    "s1.get_attendance()\n",
    "\n",
    "# Now we want to get the average attendance of the student for a week\n",
    "s1.get_average_attendance()\n",
    "\n",
    "# Result: 71.43% which means that the student has attended school for 5 days out of 7 school days. (i.e (5/7) * 100)"
   ]
  }
 ],
 "metadata": {
  "kernelspec": {
   "display_name": "Python 3 (ipykernel)",
   "language": "python",
   "name": "python3"
  },
  "language_info": {
   "codemirror_mode": {
    "name": "ipython",
    "version": 3
   },
   "file_extension": ".py",
   "mimetype": "text/x-python",
   "name": "python",
   "nbconvert_exporter": "python",
   "pygments_lexer": "ipython3",
   "version": "3.11.3"
  }
 },
 "nbformat": 4,
 "nbformat_minor": 2
}
