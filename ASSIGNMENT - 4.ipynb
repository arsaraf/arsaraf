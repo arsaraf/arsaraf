{
 "cells": [
  {
   "cell_type": "markdown",
   "id": "3e474586",
   "metadata": {},
   "source": [
    "## ASSIGNMENT - 4"
   ]
  },
  {
   "cell_type": "markdown",
   "id": "0e5cd8e2",
   "metadata": {},
   "source": [
    "1. What exactly is []?\n",
    "\n",
    "Ans. This is the empty list value, which is a list value that contains no items. "
   ]
  },
  {
   "cell_type": "code",
   "execution_count": 2,
   "id": "a6131b19",
   "metadata": {},
   "outputs": [
    {
     "data": {
      "text/plain": [
       "[2, 4, 'hello', 8, 10]"
      ]
     },
     "execution_count": 2,
     "metadata": {},
     "output_type": "execute_result"
    }
   ],
   "source": [
    "#2. In a list of values stored in a variable called spam, how would you assign the value 'hello' as the third value? (Assume [2, 4, 6, 8, 10] are in spam.)\n",
    "\n",
    "Spam = [2,4,6,8,10]\n",
    "\n",
    "Spam[2]='hello'\n",
    "Spam"
   ]
  },
  {
   "cell_type": "code",
   "execution_count": 4,
   "id": "beae1fab",
   "metadata": {},
   "outputs": [
    {
     "data": {
      "text/plain": [
       "'d'"
      ]
     },
     "execution_count": 4,
     "metadata": {},
     "output_type": "execute_result"
    }
   ],
   "source": [
    "# Let's pretend the spam includes the list ['a', 'b', 'c', 'd'] for the next three queries.\n",
    "\n",
    "# 3. What is the value of spam[int(int('3' * 2) / 11)]?\n",
    "spam = ['a', 'b', 'c', 'd']\n",
    "spam[int(int('3' * 2) / 11)]"
   ]
  },
  {
   "cell_type": "code",
   "execution_count": 5,
   "id": "3ae4ba86",
   "metadata": {},
   "outputs": [
    {
     "data": {
      "text/plain": [
       "'d'"
      ]
     },
     "execution_count": 5,
     "metadata": {},
     "output_type": "execute_result"
    }
   ],
   "source": [
    "# 4. What is the value of spam[-1]?\n",
    "\n",
    "spam[-1]"
   ]
  },
  {
   "cell_type": "code",
   "execution_count": 6,
   "id": "49e9c389",
   "metadata": {},
   "outputs": [
    {
     "data": {
      "text/plain": [
       "['a', 'b']"
      ]
     },
     "execution_count": 6,
     "metadata": {},
     "output_type": "execute_result"
    }
   ],
   "source": [
    "# 5. What is the value of spam[:2]?\n",
    "\n",
    "spam[:2]"
   ]
  },
  {
   "cell_type": "code",
   "execution_count": 9,
   "id": "466077a8",
   "metadata": {},
   "outputs": [
    {
     "data": {
      "text/plain": [
       "1"
      ]
     },
     "execution_count": 9,
     "metadata": {},
     "output_type": "execute_result"
    }
   ],
   "source": [
    "# Let's pretend bacon has the list [3.14, 'cat,' 11, 'cat,' True] for the next three questions.\n",
    "\n",
    "# 6. What is the value of bacon.index('cat')?\n",
    "bacon = [3.14, 'cat', 11, 'cat', True]\n",
    "bacon.index('cat')"
   ]
  },
  {
   "cell_type": "code",
   "execution_count": 14,
   "id": "fc4d014e",
   "metadata": {},
   "outputs": [
    {
     "data": {
      "text/plain": [
       "[3.14, 'cat', 11, 'cat', True, 99]"
      ]
     },
     "execution_count": 14,
     "metadata": {},
     "output_type": "execute_result"
    }
   ],
   "source": [
    "# 7. How does bacon.append(99) change the look of the list value in bacon?\n",
    "\n",
    "bacon.append(99)\n",
    "bacon"
   ]
  },
  {
   "cell_type": "code",
   "execution_count": 15,
   "id": "a47c7c89",
   "metadata": {},
   "outputs": [
    {
     "data": {
      "text/plain": [
       "[3.14, 11, 'cat', True, 99]"
      ]
     },
     "execution_count": 15,
     "metadata": {},
     "output_type": "execute_result"
    }
   ],
   "source": [
    "# 8. How does bacon.remove('cat') change the look of the list in bacon?\n",
    "\n",
    "bacon.remove('cat')\n",
    "bacon"
   ]
  },
  {
   "cell_type": "markdown",
   "id": "29991190",
   "metadata": {},
   "source": [
    "9. What are the list concatenation and list replication operators?\n",
    "\n",
    "Ans. The operator for list concatenation is +, while the operator for replication is *. \n",
    "\n",
    "10. What is difference between the list methods append() and insert()?\n",
    "\n",
    "Ans. append() adds an item to the end of the list whereas insert() add the item in a specified position where we want in the list.\n",
    "\n",
    "11. What are the two methods for removing items from a list?\n",
    "\n",
    "Ans. The methods pop(), remove() and clear(). \n",
    "\n",
    "To remove an item from the list using remove() method, need to specify the value of that element and pass it as an argument to the method. \n",
    "\n",
    "The pop() method removes an element from the list based on the index given. \n",
    "\n",
    "Clear() method removes all present element in the list. \n",
    "\n",
    "12. Describe how list values and string values are identical.\n",
    "\n",
    "Ans. The similarity between list and string is that both are sequences. \n",
    "\n",
    "13. What's the difference between tuples and lists?\n",
    "\n",
    "Ans.\n",
    "\n",
    "1) Items in tuple are stored in parenthesis and parenthesis is not mandatory/optional whereas items in list are stored in square bracket and square bracket is mandatory.\n",
    "\n",
    "2) Tuples are immutable and hence we cannot change it while lists are mutable and hence we can change the list anytime. \n",
    "\n",
    "3) Tuple cannot delete element rather it can delete a whole tuple whereas the list can delete any particular content.\n",
    "\n",
    "4) Tuple is useful for read only operation like accessing the element &\tlist is useful for insertion and deletion operation.\n",
    "\n",
    "\n",
    "14. How do you type a tuple value that only contains the integer 42?\n",
    "\n",
    "Ans. (42,)\n",
    "\n",
    "15. How do you get a list value's tuple form? How do you get a tuple value's list form?\n",
    "\n",
    "Ans. We get list value’s tuple form from Tuple () function and tuple value’s list form from list () function.\n",
    "\n",
    "16. Variables that \"contain\" list values are not necessarily lists themselves. Instead, what do they contain?\n",
    "\n",
    "Ans. They contain references to list values. \n",
    "\n",
    "17. How do you distinguish between copy.copy() and copy.deepcopy()?\n",
    "\n",
    "Ans. copy.copy() create a new variable that shares the reference of the original object. Any changes made to copy of object will be reflected in the original object as well.\n",
    " \n",
    "In case of copy.deepcopy(), a copy of object is copied in other object with no reference to the original. Any changes made to copy of object will not be reflected in the original object."
   ]
  }
 ],
 "metadata": {
  "kernelspec": {
   "display_name": "Python 3",
   "language": "python",
   "name": "python3"
  },
  "language_info": {
   "codemirror_mode": {
    "name": "ipython",
    "version": 3
   },
   "file_extension": ".py",
   "mimetype": "text/x-python",
   "name": "python",
   "nbconvert_exporter": "python",
   "pygments_lexer": "ipython3",
   "version": "3.8.8"
  }
 },
 "nbformat": 4,
 "nbformat_minor": 5
}
