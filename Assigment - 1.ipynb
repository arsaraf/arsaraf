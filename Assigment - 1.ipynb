{
 "cells": [
  {
   "cell_type": "markdown",
   "id": "08dc464d",
   "metadata": {},
   "source": [
    "## Assignment - 1"
   ]
  },
  {
   "cell_type": "markdown",
   "id": "13d69808",
   "metadata": {},
   "source": [
    "### 1. In the below elements which of them are values or an expression? eg:- values can be integer or string and expressions will be mathematical operators.\n",
    "\n",
    "1) * - Expression\n",
    "2) 'hello' - Values\n",
    "3) -87.8 - Values\n",
    "4) -  - Expression\n",
    "5) /  - Expression\n",
    "6) + - Expression\n",
    "7) 6 - Values\n"
   ]
  },
  {
   "cell_type": "markdown",
   "id": "f3c6a95c",
   "metadata": {},
   "source": [
    "### 2. What is the difference between string and variable?\n",
    "\n",
    "Ans. A String is a sequence of one or more characters (including letters, numbers and symbols) that can be either a constant or a variable. Strings are immutable sequences, meaning they are unchanging. It is a type of information that would be store in variable.\n",
    "Ex. “hello” is a string containing a sequence of characters ‘h’, ‘e’, ‘l’, ‘l’, ‘o’.\n",
    "\n",
    "Variables are symbols that can use to store data in program.  Numbers, String, List, Tuple are the types of variable.\n",
    "Ex. List = [2, 4, 6, 8], x = 75\n",
    "\n"
   ]
  },
  {
   "cell_type": "markdown",
   "id": "5c7ccab0",
   "metadata": {},
   "source": [
    "### 3. Describe three different data types.\n",
    "\n",
    "Ans. \n",
    "1) Numeric Data Type - It is used to hold numeric values like:\n",
    "Int – Whole number 3, 300\n",
    "\n",
    "2) Float – No. with decimal point 2.3, 4.9\n",
    "\n",
    "3) String Data Type – String is a sequence of characters. Generally strings are represented by either single or dubble quotes. \n",
    "Ex. (“Banana”, “Apple”, “Watermelon”, Mnagoes”)\n",
    "\n",
    "4) Sequence Type – List, tupple, range. Ex. A = [1,2,3,4,5], b = [“Ankita”, “Ashwini”, “Rutuja”]\n",
    "\n",
    "5) Boolean Type – It is used to represent the truth value of an expression.  When the boolean value \"x\" is true, vertical black lines are drawn and when the boolean value \"x\" is false,\n"
   ]
  },
  {
   "cell_type": "markdown",
   "id": "7eec30d4",
   "metadata": {},
   "source": [
    "### 4. What is an expression made up of? What do all expressions do?\n",
    "\n",
    "Ans. Expression is a combination of operators and operands. Expression needs to be evaluated to a single value.\n"
   ]
  },
  {
   "cell_type": "markdown",
   "id": "c6fa6e8d",
   "metadata": {},
   "source": [
    "### 5. This assignment statements, like spam = 10. What is the difference between an expression and a statement?\n",
    "\n",
    "Ans. An expression evaluates to a single value. A statement does not as same as the expression."
   ]
  },
  {
   "cell_type": "markdown",
   "id": "c2c33771",
   "metadata": {},
   "source": [
    "### 6. After running the following code, what does the variable bacon contain?"
   ]
  },
  {
   "cell_type": "code",
   "execution_count": 2,
   "id": "789d7a2f",
   "metadata": {},
   "outputs": [
    {
     "data": {
      "text/plain": [
       "23"
      ]
     },
     "execution_count": 2,
     "metadata": {},
     "output_type": "execute_result"
    }
   ],
   "source": [
    "bacon = 22\n",
    "bacon + 1"
   ]
  },
  {
   "cell_type": "markdown",
   "id": "37e7b5f5",
   "metadata": {},
   "source": [
    "### 7. What should the values of the following two terms be?"
   ]
  },
  {
   "cell_type": "code",
   "execution_count": 1,
   "id": "b3770b32",
   "metadata": {},
   "outputs": [
    {
     "data": {
      "text/plain": [
       "'spamspamspam'"
      ]
     },
     "execution_count": 1,
     "metadata": {},
     "output_type": "execute_result"
    }
   ],
   "source": [
    "'spam' + 'spamspam' \n",
    "'spam' * 3"
   ]
  },
  {
   "cell_type": "markdown",
   "id": "826f75b3",
   "metadata": {},
   "source": [
    "### 8. Why is eggs a valid variable name while 100 is invalid?\n",
    "\n",
    "Ans. Variable cannot be start with the number. Variable can start with letters (capital or small) and underscore (_). Hence eggs is a valid and 100 is invalid variable. \n"
   ]
  },
  {
   "cell_type": "markdown",
   "id": "0b2a18cd",
   "metadata": {},
   "source": [
    "### 9. What three functions can be used to get the integer, floating-point number, or string version of a value?\n",
    "\n",
    "Ans. Int(), float() and str() \n"
   ]
  },
  {
   "cell_type": "markdown",
   "id": "ad49cf93",
   "metadata": {},
   "source": [
    "### 10. Why does this expression cause an error? How can you fix it?\n",
    "\n",
    "'I have eaten ' + 99 + ' burritos.'\n",
    "Ans. We can concatenate String with only String together, and not with int or number. In the given example, 99 is int and rest all are string. Hence expression cause an error. \n",
    "To fix this error, we need to convert 99 (int) data type in string data type as below,"
   ]
  },
  {
   "cell_type": "code",
   "execution_count": 7,
   "id": "b7491491",
   "metadata": {},
   "outputs": [
    {
     "data": {
      "text/plain": [
       "'I have eaten 99 burritos.'"
      ]
     },
     "execution_count": 7,
     "metadata": {},
     "output_type": "execute_result"
    }
   ],
   "source": [
    " 'I have eaten ' + '99' + ' burritos.' "
   ]
  }
 ],
 "metadata": {
  "kernelspec": {
   "display_name": "Python 3",
   "language": "python",
   "name": "python3"
  },
  "language_info": {
   "codemirror_mode": {
    "name": "ipython",
    "version": 3
   },
   "file_extension": ".py",
   "mimetype": "text/x-python",
   "name": "python",
   "nbconvert_exporter": "python",
   "pygments_lexer": "ipython3",
   "version": "3.8.8"
  }
 },
 "nbformat": 4,
 "nbformat_minor": 5
}
