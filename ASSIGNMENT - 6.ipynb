{
 "cells": [
  {
   "cell_type": "markdown",
   "id": "41d496b3",
   "metadata": {},
   "source": [
    "## Assignment - 6\n",
    "\n",
    "### Python Basic - 1"
   ]
  },
  {
   "cell_type": "markdown",
   "id": "8ce75e7b",
   "metadata": {},
   "source": [
    "Q.1. What are keywords in python? Using the keyword library, print all the python keywords.\n",
    "\n",
    "Keywords in Python are reserved words that cannot be used as ordinary identifiers. They are used to define the syntax and structure of the Python language.\n",
    "\n",
    "Keywords are immutable. This means their meaning and definition can't be altered.\n",
    "\n",
    "Keywords are case-sensitive. As of Python 3.9, there are 35 keywords."
   ]
  },
  {
   "cell_type": "code",
   "execution_count": null,
   "id": "5010637f",
   "metadata": {},
   "outputs": [],
   "source": [
    "import keyword\n",
    "\n",
    "print(keyword.kwlist)"
   ]
  },
  {
   "cell_type": "markdown",
   "id": "62ebc1d9",
   "metadata": {},
   "source": [
    "Q.2. What are the rules to create variables in python?\n",
    "\n",
    "1) A variable name must start with a letter or the underscore character. \n",
    "\n",
    "2) A variable name cannot start with a number.\n",
    "\n",
    "3) A variable name can only contain alpha-numeric characters and underscores (A-z, 0-9, and _ )\n",
    "\n",
    "4) Variable names are case-sensitive (For ex. age, Age and AGE are three different variables)"
   ]
  },
  {
   "cell_type": "code",
   "execution_count": null,
   "id": "79f74b1e",
   "metadata": {},
   "outputs": [],
   "source": [
    "#For example:\n",
    "fruits = [\"apple\", \"banana\", \"mango\"]\n",
    "_color = [\"Yellow\", \"Red\", \"Green\"]\n",
    "num_1 = 4\n",
    "print(fruits, _color, num_1)"
   ]
  },
  {
   "cell_type": "markdown",
   "id": "7be0c446",
   "metadata": {},
   "source": [
    "Q.3. What are the standards and conventions followed for the nomenclature of variables in\n",
    "python to improve code readability and maintainability?\n",
    "\n",
    "Ans. 1) Identifiers must start with a Letter (A-Z) or an underscore (\"_\"), followed by more letters or numbers. \n",
    "\n",
    "2) Python does not allow characters such as @, $, and % within identifier names. \n",
    "\n",
    "3) Python is case sensitive. So “selection” and “Selection” are two different identifiers.\n",
    "\n",
    "4) Separate words with underscores to improve readability."
   ]
  },
  {
   "cell_type": "markdown",
   "id": "c395159a",
   "metadata": {},
   "source": [
    "Q.4. What will happen if a keyword is used as a variable name?\n",
    "\n",
    "Ans. We cannot use a keyword as a variable name, function name, or any other identifier. They are used to define the syntax and structure of the Python language. \n",
    "\n",
    "All the keywords except True , False and None are in lowercase and they must be written as they are."
   ]
  },
  {
   "cell_type": "markdown",
   "id": "75763503",
   "metadata": {},
   "source": [
    "Q.5. For what purpose def keyword is used?\n",
    "\n",
    "Ans. The def keyword is used to create or define a function."
   ]
  },
  {
   "cell_type": "markdown",
   "id": "caff5f59",
   "metadata": {},
   "source": [
    "Q.6. What is the operation of this special character ‘\\’?\n",
    "\n",
    "Ans. In Python strings, the backslash \"\\\" is a special character, also called the \"escape\" character. \n",
    "\n",
    "It is used in representing certain whitespace characters: \"\\t\" is a tab, \"\\n\" is a newline, and \"\\r\" is a carriage return."
   ]
  },
  {
   "cell_type": "code",
   "execution_count": 3,
   "id": "a628953f",
   "metadata": {},
   "outputs": [
    {
     "name": "stdout",
     "output_type": "stream",
     "text": [
      "['Ankita', 'Rutuja', 'Kaustubh', 'Sneha', 'Vishal', 'Sarang']\n",
      "{'cherry', 'grapes', 3, 'banana', 5, 25, 'mangoes', 'kiwi'}\n",
      "('grapes', 'kiwi', 'banana', 'cherry', 'mangoes', 'orange', 'peach')\n"
     ]
    }
   ],
   "source": [
    "#Q.7. Give an example of the following conditions:\n",
    "    \n",
    "#(i) Homogeneous list\n",
    "\n",
    "student_name = [\"Ankita\", \"Rutuja\", \"Kaustubh\", \"Sneha\", \"Vishal\", \"Sarang\"]\n",
    "print(student_name)\n",
    "\n",
    "#(ii) Heterogeneous set\n",
    "\n",
    "heter_set = {'grapes', 'kiwi', 5, 'banana', 'cherry', 3, 'mangoes', 25}\n",
    "print(heter_set)\n",
    "\n",
    "#(iii) Homogeneous tuple\n",
    "homo_tuple = ('grapes', 'kiwi', 'banana', 'cherry', 'mangoes', 'orange', 'peach')\n",
    "print(homo_tuple)"
   ]
  },
  {
   "cell_type": "markdown",
   "id": "95726bb6",
   "metadata": {},
   "source": [
    "Q.8. Explain the mutable and immutable data types with proper explanation & examples.\n",
    "\n",
    "Ans. \n",
    "\n",
    "i) Mutable data types: A mutable object can be changed after it is created Or, we may add new values or remove the existing values from our data types. \n",
    "    \n",
    "Basically, we may perform any operation with our data without having to create a new copy of our data type. Hence, the value assigned to any variable can be changed.\n",
    "    \n",
    "There are basically 3 mutable data types in Python:\n",
    "\n",
    "1) List : A list data structure is a ordered sequence of elements in Python, that is mutable, or changeable. This is because we can change the value of a list in Python by assigning a new value to our already existing list. We need not create any separate (or new) copy of the list to perform these operations.\n",
    "\n",
    "2) Dictionary : Dictionary in Python is an unordered collection of items. Each item of a dictionary has a key/value pair, using which we can access a particular key or value of a dictionary. Keys in dictionaries are unique in nature.\n",
    "   Dictionary is a mutable data type in Python. That means, we can modify, remove or add values of existing items in a dictionary using the assignment operator.\n",
    "\n",
    "3) Set : A set is an unordered collection of items in Python. All the elements of the set are unique in nature, that is, there are no duplicates in a set. \n",
    "   However, a set itself is mutable in Python. That means, we can add or remove elements from a set in Python. Hence, we can perform operations in a set that can modify the overall set.\n",
    "    \n",
    "ii) Immutable data types: An immutable object cannot be changed after it is created\n",
    "    \n",
    "Below are the immutable data types in python.\n",
    "\n",
    "tuples, int, float:\n",
    "    \n",
    "1) Tuples: Tuples are likewise immutable, which means we can't append or update anything in them. While modifying any item in a tuple, we get errors 'tuple' object does not support item assignment.\n",
    "    \n",
    "2) int: Since the int data type is immutable, we cannot modify or update it."
   ]
  },
  {
   "cell_type": "code",
   "execution_count": 10,
   "id": "56a3aafd",
   "metadata": {},
   "outputs": [
    {
     "name": "stdout",
     "output_type": "stream",
     "text": [
      "[1, 2, 4, 5, 10, 6, 11, 23]\n",
      "{'state': 'West Bengal', 'Capital': 'Kolkata', 'Country': 'India'}\n",
      "{'Mango', 'Strawberry', 'apple', 'Papaya'}\n"
     ]
    }
   ],
   "source": [
    "# Examples of Mutable Data types list.\n",
    "\n",
    "my_list = [1,2,3,4,5]\n",
    "\n",
    "my_list.append(10)\n",
    "\n",
    "my_list.extend([6,11,23])\n",
    "\n",
    "my_list.remove(3)\n",
    "\n",
    "print(my_list)\n",
    "\n",
    "\n",
    "# Examples of Mutable Data types dictionaries.\n",
    "\n",
    "my_dict = {\"state\":\"WB\", \"Capital\":\"Kolkata\"}\n",
    "\n",
    "my_dict['Country'] = \"India\"\n",
    "\n",
    "my_dict['state'] = \"West Bengal\"\n",
    "\n",
    "print(my_dict)\n",
    "\n",
    "# Examples of Mutable Data types sets.\n",
    "\n",
    "my_set = {\"Papaya\", \"Mango\", \"Strawberry\", \"kiwi\"}\n",
    "\n",
    "my_set.add('apple')\n",
    "\n",
    "my_set.remove('kiwi')\n",
    "\n",
    "print(my_set)"
   ]
  },
  {
   "cell_type": "code",
   "execution_count": 9,
   "id": "58e63bb1",
   "metadata": {},
   "outputs": [
    {
     "name": "stdout",
     "output_type": "stream",
     "text": [
      "1758749349056\n",
      "1758685240192\n"
     ]
    },
    {
     "ename": "TypeError",
     "evalue": "'tuple' object does not support item assignment",
     "output_type": "error",
     "traceback": [
      "\u001b[1;31m---------------------------------------------------------------------------\u001b[0m",
      "\u001b[1;31mTypeError\u001b[0m                                 Traceback (most recent call last)",
      "\u001b[1;32m<ipython-input-9-14a5343d4bcc>\u001b[0m in \u001b[0;36m<module>\u001b[1;34m\u001b[0m\n\u001b[0;32m     12\u001b[0m \u001b[1;33m\u001b[0m\u001b[0m\n\u001b[0;32m     13\u001b[0m \u001b[0minputTuple\u001b[0m \u001b[1;33m=\u001b[0m \u001b[1;33m(\u001b[0m\u001b[1;34m'hello'\u001b[0m\u001b[1;33m,\u001b[0m \u001b[1;34m'data'\u001b[0m\u001b[1;33m,\u001b[0m \u001b[1;34m'science'\u001b[0m\u001b[1;33m)\u001b[0m\u001b[1;33m\u001b[0m\u001b[1;33m\u001b[0m\u001b[0m\n\u001b[1;32m---> 14\u001b[1;33m \u001b[0minputTuple\u001b[0m\u001b[1;33m[\u001b[0m\u001b[1;36m2\u001b[0m\u001b[1;33m]\u001b[0m\u001b[1;33m=\u001b[0m \u001b[1;34m'welcome'\u001b[0m\u001b[1;33m\u001b[0m\u001b[1;33m\u001b[0m\u001b[0m\n\u001b[0m",
      "\u001b[1;31mTypeError\u001b[0m: 'tuple' object does not support item assignment"
     ]
    }
   ],
   "source": [
    "# Examples of Mutable Data types Int.\n",
    "\n",
    "g = (1, 3, 5)\n",
    "print(id(g))\n",
    "g = (42, )\n",
    "print(id(g))\n",
    "\n",
    "inputNumber = 5\n",
    "inputNumber = 10\n",
    "\n",
    "# Examples of Mutable Data types Tuple.\n",
    "\n",
    "inputTuple = ('hello', 'data', 'science')\n",
    "inputTuple[2]= 'welcome'"
   ]
  },
  {
   "cell_type": "code",
   "execution_count": null,
   "id": "2b3d94ff",
   "metadata": {},
   "outputs": [],
   "source": [
    "Q.9. Write a code to create the given structure using only for loop.\n",
    "    *\n",
    "   ***\n",
    "  *****\n",
    " *******\n",
    "*********\n"
   ]
  },
  {
   "cell_type": "code",
   "execution_count": 1,
   "id": "69abcb55",
   "metadata": {},
   "outputs": [
    {
     "name": "stdout",
     "output_type": "stream",
     "text": [
      "        * \n",
      "      * * * \n",
      "    * * * * * \n",
      "  * * * * * * * \n",
      "* * * * * * * * * \n"
     ]
    }
   ],
   "source": [
    "rows = 5\n",
    "\n",
    "for i in range(rows):\n",
    "    \n",
    "    #print spaces before star\n",
    "    for j in range (rows-i-1):\n",
    "        print(\" \", end = \" \")\n",
    "     \n",
    "    #print stars *\n",
    "    for k in range (2*i+1):\n",
    "        print(\"*\", end = \" \")\n",
    "        \n",
    "    print()"
   ]
  },
  {
   "cell_type": "code",
   "execution_count": null,
   "id": "c5c47a28",
   "metadata": {},
   "outputs": [],
   "source": [
    "# Q.10. Write a code to create the given structure using while loop.\n",
    "\n",
    "|||||||||\n",
    " |||||||\n",
    "  |||||\n",
    "   |||\n",
    "    |"
   ]
  },
  {
   "cell_type": "code",
   "execution_count": 3,
   "id": "92b17ac9",
   "metadata": {},
   "outputs": [
    {
     "name": "stdout",
     "output_type": "stream",
     "text": [
      " |||||||||\n",
      "  |||||||\n",
      "   |||||\n",
      "    |||\n",
      "     |\n"
     ]
    }
   ],
   "source": [
    "row = 5\n",
    "spaces = 1\n",
    "while row >=1:\n",
    "    \n",
    "    print(' ' * spaces + '|' * (2*row-1))\n",
    "    row -=1\n",
    "    spaces +=1"
   ]
  }
 ],
 "metadata": {
  "kernelspec": {
   "display_name": "Python 3",
   "language": "python",
   "name": "python3"
  },
  "language_info": {
   "codemirror_mode": {
    "name": "ipython",
    "version": 3
   },
   "file_extension": ".py",
   "mimetype": "text/x-python",
   "name": "python",
   "nbconvert_exporter": "python",
   "pygments_lexer": "ipython3",
   "version": "3.8.8"
  }
 },
 "nbformat": 4,
 "nbformat_minor": 5
}
