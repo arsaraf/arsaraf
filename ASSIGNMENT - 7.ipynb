{
 "cells": [
  {
   "cell_type": "markdown",
   "id": "43501c01",
   "metadata": {},
   "source": [
    "### ASSIGNMENT - 7"
   ]
  },
  {
   "cell_type": "markdown",
   "id": "0f457fb6",
   "metadata": {},
   "source": [
    "Q.1. Create two int type variables, apply addition, subtraction, division and multiplications\n",
    "and store the results in variables. Then print the data in the following format by calling the\n",
    "variables:\n",
    "\n",
    "First variable is __ & second variable is __.\n",
    "\n",
    "Addition: __ + __ = __\n",
    "\n",
    "Subtraction: __ - __ = __\n",
    "\n",
    "Multiplication: __ * __ = __\n",
    "\n",
    "Division: __ / __ = __\n"
   ]
  },
  {
   "cell_type": "code",
   "execution_count": 1,
   "id": "6693523b",
   "metadata": {},
   "outputs": [
    {
     "name": "stdout",
     "output_type": "stream",
     "text": [
      "Enter you choice (add/sub/div/mul):mul\n",
      "Please enter 1st number:5\n",
      "Please enter 2nd number:6\n",
      "First variable is 5 & second variable is 6.  \n",
      "Multiplication: 5 * 6 = 30 \n"
     ]
    }
   ],
   "source": [
    "choice = input(\"Enter you choice (add/sub/div/mul):\")\n",
    "\n",
    "num1 = int(input(\"Please enter 1st number:\"))\n",
    "num2 = int(input(\"Please enter 2nd number:\"))\n",
    "\n",
    "if choice == \"add\":\n",
    "    print(f\"First variable is {num1} & second variable is {num2}.  \\nAddition: {num1} + {num2} = {num1 + num2} \")\n",
    "elif choice == \"sub\":\n",
    "    print(f\"First variable is {num1} & second variable is {num2}.  \\nSubtraction: {num1} - {num2} = {num1 - num2} \")   \n",
    "elif choice == \"mul\":\n",
    "    print(f\"First variable is {num1} & second variable is {num2}.  \\nMultiplication: {num1} * {num2} = {num1 * num2} \")\n",
    "elif choice == \"div\":\n",
    "    print(f\"First variable is {num1} & second variable is {num2}.  \\nDivision: {num1} / {num2} = {num1 / num2} \")\n",
    "else:\n",
    "    print(\"wrong choice\")\n",
    "    "
   ]
  },
  {
   "cell_type": "markdown",
   "id": "5ce4001a",
   "metadata": {},
   "source": [
    "Q.2. What is the difference between the following operators:\n",
    "\n",
    "(i) ‘/’ & ‘//’\n",
    "\n",
    "(ii) ‘**’ & ‘^’"
   ]
  },
  {
   "cell_type": "markdown",
   "id": "ab4a7b8f",
   "metadata": {},
   "source": [
    "Ans i) Both are the division operators. '/' this method of division is considered as the 'classic division'. It carries out the float division. \n",
    " The output of this operator is aleays a quotient with a float data type.\n",
    " '//' this method of division is considered as the 'true division'. It carries out integer division which is also known as 'floor division'.\n",
    " The output of this operator will be the quotient rounded off to the closest whole number.\n",
    " \n",
    " \n",
    " ii) The operator '**' is used for the 'power off' and '*' is used for the multiplication.  "
   ]
  },
  {
   "cell_type": "markdown",
   "id": "4801d4ac",
   "metadata": {},
   "source": [
    "Q.3. List the logical operators.\n",
    "\n",
    "Ans. In python, there are three logical operators : And, OR, Not.\n",
    "\n",
    "'And' operator returns True only when both conditions are true simultaneously.\n",
    "\n",
    "'OR' opeartor returns True is either of the condition is met.\n",
    "\n",
    "'NOT' operator inverts the result, i.e., True changes to False and Vice versa."
   ]
  },
  {
   "cell_type": "markdown",
   "id": "27466bc6",
   "metadata": {},
   "source": [
    "Q.4. Explain right shift operator and left shift operator with examples.\n",
    "\n",
    "Ans.1) Right Shift Operator : The bitwise right shift operator in python shifts the bits of the binary representation of the input number to the right side by a specified number of places. The empty bits created by shifting the bits are filled by 0s.\n",
    "\n",
    "The syntax for the bitwise right shift is a >> n. Here ‘a’ is the number whose bits will be shifted by ‘n’ places to the right.\n",
    "\n",
    "Example: Suppose we have to shift the bits of 14 by 2 places. We will first convert it into binary format.\n",
    "\n",
    "14 in binary format is written as 1110.\n",
    "After shifting, the two rightmost bits 1 and 0 will be discarded and the empty leftmost bits will be filled with 0s. The output of 14 >> 2 will be 0011 in binary which converts to the value 3 in integer format. \n",
    "\n",
    "2) Left Shift Operator : The bitwise left shift operator in Python shifts the bits of the binary representation of the input number to the left side by a specified number of places. The empty bits created by shifting the bits are filled by 0s.  \n",
    "\n",
    "The syntax for the bitwise left shift is a << n. Here ‘a’ is the number whose bits will be shifted by ‘n’ places to the left.\n",
    "\n",
    "Example: Suppose we have to shift the bits of 14 by 2 places. We will first convert it into binary format.\n",
    "\n",
    "14 in binary format is written as 1110.\n",
    "After shifting, the empty rightmost bits will be filled with 0s. The output of 14 << 2 will be 111000 in binary which converts to the value 56 in integer format. "
   ]
  },
  {
   "cell_type": "code",
   "execution_count": 4,
   "id": "858a0f45",
   "metadata": {},
   "outputs": [
    {
     "name": "stdout",
     "output_type": "stream",
     "text": [
      "Right shit operator is: 3\n",
      "Left shit operator is: 56\n"
     ]
    }
   ],
   "source": [
    "a = 14 # 1010\n",
    "right_shift_result = a >> 2 \n",
    "print(f\"Right shit operator is: {right_shift_result}\")\n",
    "\n",
    "a = 14\n",
    "left_shift_result = a << 2\n",
    "print(f\"Left shit operator is: {left_shift_result}\")"
   ]
  },
  {
   "cell_type": "markdown",
   "id": "f9b0d1d0",
   "metadata": {},
   "source": [
    "Q.5. Create a list containing int type data of length 15. Then write a code to check if 10 is\n",
    "present in the list or not"
   ]
  },
  {
   "cell_type": "code",
   "execution_count": 5,
   "id": "1bd7190b",
   "metadata": {},
   "outputs": [
    {
     "name": "stdout",
     "output_type": "stream",
     "text": [
      "present\n"
     ]
    }
   ],
   "source": [
    "lst = [2,4,6,8,10,13,15,17,19,21,23,30,45,81,134]\n",
    "i = 10\n",
    "if i in lst:\n",
    "    print(\"present\")\n",
    "else:\n",
    "    print(\"absent\")"
   ]
  }
 ],
 "metadata": {
  "kernelspec": {
   "display_name": "Python 3",
   "language": "python",
   "name": "python3"
  },
  "language_info": {
   "codemirror_mode": {
    "name": "ipython",
    "version": 3
   },
   "file_extension": ".py",
   "mimetype": "text/x-python",
   "name": "python",
   "nbconvert_exporter": "python",
   "pygments_lexer": "ipython3",
   "version": "3.8.8"
  }
 },
 "nbformat": 4,
 "nbformat_minor": 5
}
