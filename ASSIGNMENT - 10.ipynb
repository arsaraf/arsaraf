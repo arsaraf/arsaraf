{
 "cells": [
  {
   "cell_type": "markdown",
   "id": "09826d75",
   "metadata": {},
   "source": [
    "## ASSIGNMENT - 10"
   ]
  },
  {
   "cell_type": "markdown",
   "id": "f0da2280",
   "metadata": {},
   "source": [
    "1. What is the role of try and exception block?\n",
    "\n",
    "Ans. The try and except block in Python is used to catch and handle exceptions. \n",
    "\n",
    "Python executes code following the try statement as a “normal” part of the program. \n",
    "\n",
    "The code that follows the except statement is the program's response to any exceptions in the preceding try clause."
   ]
  },
  {
   "cell_type": "markdown",
   "id": "98140f72",
   "metadata": {},
   "source": [
    "2. What is the syntax for a basic try-except block?"
   ]
  },
  {
   "cell_type": "code",
   "execution_count": 1,
   "id": "e8ebc6d1",
   "metadata": {},
   "outputs": [
    {
     "name": "stdout",
     "output_type": "stream",
     "text": [
      "Some issue with x\n"
     ]
    }
   ],
   "source": [
    "try:\n",
    "  print(x)\n",
    "except:\n",
    "  print(\"Some issue with x\")"
   ]
  },
  {
   "cell_type": "markdown",
   "id": "584e1f0c",
   "metadata": {},
   "source": [
    "3. What happens if an exception occurs inside a try block and there is no matching\n",
    "except block?\n",
    "\n",
    "Ans. If an exception is thrown from the try block, even when there's no catch block to handle the exception, the finally block still executes, in which case the exception is still thrown immediately after the finally block finishes executing"
   ]
  },
  {
   "cell_type": "markdown",
   "id": "da216263",
   "metadata": {},
   "source": [
    "4. What is the difference between using a bare except block and specifying a specific\n",
    "exception type?\n",
    "\n",
    "Ans. 1) A bare except clause will catch SystemExit and KeyboardInterrupt exceptions, making it harder to interrupt a program with Control-C, and can disguise other problems. \n",
    "        bare except is equivalent to except BaseException.\n",
    "\n",
    "2) If we want to catch all exceptions that signal program errors, then we can use except Exception."
   ]
  },
  {
   "cell_type": "code",
   "execution_count": 2,
   "id": "d74a0bc2",
   "metadata": {},
   "outputs": [
    {
     "name": "stdout",
     "output_type": "stream",
     "text": [
      "Hit an exception other than KeyError or NameError!\n",
      "There is a TypeError in your code\n"
     ]
    }
   ],
   "source": [
    "# Example of using bare except\n",
    "\n",
    "print('Hit an exception other than KeyError or NameError!')\n",
    "\n",
    "\n",
    "# Example of using Exception in front of an except clause\n",
    "\n",
    "try:\n",
    "    discounted_price(instrument, discount)\n",
    "except KeyError:\n",
    "    print(\"There is a keyerror in your code\")\n",
    "except NameError:\n",
    "    print('There is a TypeError in your code')\n",
    "except Exception:\n",
    "    print('an exception occured')"
   ]
  },
  {
   "cell_type": "markdown",
   "id": "4f9160a8",
   "metadata": {},
   "source": [
    "5. Can you have nested try-except blocks in Python? If yes, then give an example.\n",
    "\n",
    "Ans. We can have nested try-except blocks in Python. In this case, if an exception is raised in the nested try block, the nested except block is used to handle it. \n",
    "\n",
    "In case the nested except is not able to handle it, the outer except blocks are used to handle the exception."
   ]
  },
  {
   "cell_type": "code",
   "execution_count": 3,
   "id": "c31fb9d0",
   "metadata": {},
   "outputs": [
    {
     "name": "stdout",
     "output_type": "stream",
     "text": [
      "2\n",
      "The 'try except' executed\n"
     ]
    }
   ],
   "source": [
    "# Example of nested try-except block\n",
    "\n",
    "try:\n",
    "  x = 2\n",
    "  print(x)\n",
    "except:\n",
    "  print(\"There is no X\")\n",
    "finally:\n",
    "  print(\"The 'try except' executed\")"
   ]
  },
  {
   "cell_type": "markdown",
   "id": "994c4ea3",
   "metadata": {},
   "source": [
    "6. Can we use multiple exception blocks, if yes then give an example.\n",
    "\n",
    "Ans. Yes, It is possible to use multiple exception blocks."
   ]
  },
  {
   "cell_type": "code",
   "execution_count": 4,
   "id": "e6b3e6dd",
   "metadata": {},
   "outputs": [
    {
     "name": "stdout",
     "output_type": "stream",
     "text": [
      "Please enter the numerator: 10\n",
      "Please enter the denominator: 5\n",
      "Result: 2.0\n"
     ]
    }
   ],
   "source": [
    "try:\n",
    "    n = int(input(\"Please enter the numerator: \"))\n",
    "    d = int(input(\"Please enter the denominator: \"))\n",
    "\n",
    "    result = n / d\n",
    "    print(\"Result:\", result)\n",
    "\n",
    "except ValueError:\n",
    "    print(\"Please enter valid integers for the numerator and denominator.\")\n",
    "\n",
    "except ZeroDivisionError:\n",
    "    print(\"Division by zero is not allowed.\")"
   ]
  },
  {
   "cell_type": "markdown",
   "id": "1404ec23",
   "metadata": {},
   "source": [
    "7. Write the reason due to which following errors are raised:\n",
    "    \n",
    "a. EOFError: Raised when the input() function hits an end-of-file condition (EOF).\n",
    "\n",
    "b. FloatingPointError: Raised when a floating point operation fails.\n",
    "\n",
    "c. IndexError: Raised when a sequence subscript (index) is out of range.\n",
    "\n",
    "d. MemoryError: Raised when an operation runs out of memory.\n",
    "\n",
    "e. OverflowError: Raised when the result of an arithmetic operation is too large to be expressed.\n",
    "\n",
    "f. TabError: Raised when indentation contains mixed tabs and spaces.\n",
    "\n",
    "g. ValueError: Raised when a built-in operation or function receives an argument that has the right type but an inappropriate value."
   ]
  },
  {
   "cell_type": "markdown",
   "id": "bef2d60b",
   "metadata": {},
   "source": [
    "8. Write code for the following given scenario and add try-exception block to it.\n",
    "\n",
    "a. Program to divide two numbers\n",
    "\n",
    "b. Program to convert a string to an integer\n",
    "\n",
    "c. Program to access an element in a list\n",
    "\n",
    "d. Program to handle a specific exception\n",
    "\n",
    "e. Program to handle any exception"
   ]
  },
  {
   "cell_type": "code",
   "execution_count": 5,
   "id": "c260db34",
   "metadata": {},
   "outputs": [
    {
     "name": "stdout",
     "output_type": "stream",
     "text": [
      "Please enter the numerator: 20\n",
      "Please enter the denominator: 5\n",
      "Result: 4.0\n"
     ]
    }
   ],
   "source": [
    "#a. Program to divide two numbers\n",
    "\n",
    "try:\n",
    "    n = int(input(\"Please enter the numerator: \"))\n",
    "    d = int(input(\"Please enter the denominator: \"))\n",
    "\n",
    "    result = n / d\n",
    "    print(\"Result:\", result)\n",
    "\n",
    "except ValueError:\n",
    "    print(\"Please enter valid integers for the numerator and denominator.\")"
   ]
  },
  {
   "cell_type": "code",
   "execution_count": 6,
   "id": "cae77d82",
   "metadata": {},
   "outputs": [
    {
     "name": "stdout",
     "output_type": "stream",
     "text": [
      "Please enter an integer\n"
     ]
    }
   ],
   "source": [
    "#b. Program to convert a string to an integer\n",
    "\n",
    "string = \"ankita\"\n",
    "try:\n",
    "    string_int = int(string)\n",
    "    print(string_int)\n",
    "except ValueError:\n",
    "    # Handle the exception\n",
    "    print('Please enter an integer')"
   ]
  },
  {
   "cell_type": "code",
   "execution_count": 7,
   "id": "199ac549",
   "metadata": {},
   "outputs": [
    {
     "name": "stdout",
     "output_type": "stream",
     "text": [
      "IndexError error occurred.\n"
     ]
    }
   ],
   "source": [
    "# c. Program to access an element in a list\n",
    "\n",
    "try:\n",
    "    list = [2,4,6,8,10]\n",
    "\n",
    "    print(list[5])  # Trying to reach an index that is out of range\n",
    "\n",
    "except IndexError:\n",
    "    print(\"IndexError error occurred.\")"
   ]
  },
  {
   "cell_type": "code",
   "execution_count": 8,
   "id": "8edf541e",
   "metadata": {},
   "outputs": [
    {
     "ename": "NameError",
     "evalue": "name 'file_path' is not defined",
     "output_type": "error",
     "traceback": [
      "\u001b[1;31m---------------------------------------------------------------------------\u001b[0m",
      "\u001b[1;31mNameError\u001b[0m                                 Traceback (most recent call last)",
      "\u001b[1;32m<ipython-input-8-f491a9cd80c4>\u001b[0m in \u001b[0;36m<module>\u001b[1;34m\u001b[0m\n\u001b[0;32m      4\u001b[0m     \u001b[0mfile_location\u001b[0m \u001b[1;33m=\u001b[0m \u001b[1;34m\"my_file.txt\"\u001b[0m\u001b[1;33m\u001b[0m\u001b[1;33m\u001b[0m\u001b[0m\n\u001b[0;32m      5\u001b[0m \u001b[1;33m\u001b[0m\u001b[0m\n\u001b[1;32m----> 6\u001b[1;33m     \u001b[1;32mwith\u001b[0m \u001b[0mopen\u001b[0m\u001b[1;33m(\u001b[0m\u001b[0mfile_path\u001b[0m\u001b[1;33m,\u001b[0m \u001b[1;34m\"r\"\u001b[0m\u001b[1;33m)\u001b[0m \u001b[1;32mas\u001b[0m \u001b[0mfile\u001b[0m\u001b[1;33m:\u001b[0m\u001b[1;33m\u001b[0m\u001b[1;33m\u001b[0m\u001b[0m\n\u001b[0m\u001b[0;32m      7\u001b[0m         \u001b[0mcontents\u001b[0m \u001b[1;33m=\u001b[0m \u001b[0mfile\u001b[0m\u001b[1;33m.\u001b[0m\u001b[0mread\u001b[0m\u001b[1;33m(\u001b[0m\u001b[1;33m)\u001b[0m\u001b[1;33m\u001b[0m\u001b[1;33m\u001b[0m\u001b[0m\n\u001b[0;32m      8\u001b[0m \u001b[1;33m\u001b[0m\u001b[0m\n",
      "\u001b[1;31mNameError\u001b[0m: name 'file_path' is not defined"
     ]
    }
   ],
   "source": [
    "# d. Program to handle a specific exception\n",
    "\n",
    "try:\n",
    "    file_location = \"my_file.txt\"\n",
    "\n",
    "    with open(file_path, \"r\") as file:\n",
    "        contents = file.read()\n",
    "\n",
    "except FileNotFoundError:\n",
    "    print(f\"File '{file_path}' not found.\")"
   ]
  },
  {
   "cell_type": "code",
   "execution_count": 9,
   "id": "0e1f0bd7",
   "metadata": {},
   "outputs": [
    {
     "name": "stdout",
     "output_type": "stream",
     "text": [
      "KeyError error occurred.\n"
     ]
    }
   ],
   "source": [
    "# e. Program to handle any exception\n",
    "\n",
    "try:\n",
    "    my_dictionary = {\"name\": \"Ankita\", \"age\": 25}\n",
    "\n",
    "    print(my_dictionary[\"city\"])  # Accessing a KEY which does not exist\n",
    "\n",
    "except KeyError:\n",
    "    print(\"KeyError error occurred.\")"
   ]
  }
 ],
 "metadata": {
  "kernelspec": {
   "display_name": "Python 3",
   "language": "python",
   "name": "python3"
  },
  "language_info": {
   "codemirror_mode": {
    "name": "ipython",
    "version": 3
   },
   "file_extension": ".py",
   "mimetype": "text/x-python",
   "name": "python",
   "nbconvert_exporter": "python",
   "pygments_lexer": "ipython3",
   "version": "3.8.8"
  }
 },
 "nbformat": 4,
 "nbformat_minor": 5
}
