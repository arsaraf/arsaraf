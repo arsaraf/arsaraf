{
 "cells": [
  {
   "cell_type": "markdown",
   "metadata": {},
   "source": [
    " 1. Explain what inheritance is in object-oriented programming and why it is used."
   ]
  },
  {
   "cell_type": "markdown",
   "metadata": {},
   "source": [
    "**Inheritance** \n",
    "* Inheritance is one the important characteristics of Object Oriented Programming language.\n",
    "* It facilitates the passing of attributes and methods of a class (base) to another class (derived)\n",
    "* A child class acquires the properties and can access all the data members and functions defined in the parent class. \n",
    "* MOreover, a child class can also provide its specific implementation to the functions of the parent class.\n",
    "\n",
    "*Usages*:\n",
    "* Its primary usage is code reusability because we can inherit all attributes and methods related to a particular functionality which is already written in a class instead of writing the functionality from scratch.\n"
   ]
  },
  {
   "cell_type": "markdown",
   "metadata": {},
   "source": [
    "2. Discuss the concept of single inheritance and multiple inheritance, highlighting their differences and advantages."
   ]
  },
  {
   "cell_type": "markdown",
   "metadata": {},
   "source": [
    "**Single Inheritance**: In Single Inheritance, one child inherits from one parent i.e. there will be a single base class and a single derived class"
   ]
  },
  {
   "cell_type": "code",
   "execution_count": 14,
   "metadata": {},
   "outputs": [],
   "source": [
    "# E.g. Single Inheritance\n",
    "class Human:  # Base Class\n",
    "    def __init__(self, name) -> None:\n",
    "        self.name = name\n",
    "    \n",
    "    def info(self):\n",
    "        print(\"Inside base class\")\n",
    "        print(f\"Name: {self.name}\")\n",
    "        \n",
    "class Male(Human):  # Derived Class from a Single Base Class\n",
    "    def __init__(self, name, gender) -> None:\n",
    "        super().__init__(name)\n",
    "        self.gender = gender\n",
    "        \n",
    "    def info(self):\n",
    "        print(\"Inside derived class\")\n",
    "        super().info()"
   ]
  },
  {
   "cell_type": "markdown",
   "metadata": {},
   "source": [
    "**Multiple Inheritance**: In Multiple Inheritance, one child class can inherit attributes and methods from multiple parent classes i.e there will be multiple base class and a single derived class"
   ]
  },
  {
   "cell_type": "code",
   "execution_count": 1,
   "metadata": {},
   "outputs": [
    {
     "name": "stdout",
     "output_type": "stream",
     "text": [
      "Name: EMCURE & Age: 25\n",
      "Company Name: EMCURE & Domain: Data Analytics\n",
      "Salary: 50000\n"
     ]
    }
   ],
   "source": [
    "# E.g. Multiple Inheritance\n",
    "class Person:  # Base Class\n",
    "    def __init__(self, name, age) -> None:\n",
    "        self.name = name\n",
    "        self.age = age\n",
    "    \n",
    "    def person_info(self):\n",
    "        print(f\"Name: {self.name} & Age: {self.age}\")\n",
    "        \n",
    "class Company:  # Base Class\n",
    "    def __init__(self, name, domain) -> None:\n",
    "        self.name = name\n",
    "        self.domain = domain\n",
    "    \n",
    "    def company_info(self):\n",
    "        print(f\"Company Name: {self.name} & Domain: {self.domain}\")\n",
    "        \n",
    "class Employee(Person, Company):  # Derived Class from a Single Base Class\n",
    "    def __init__(self, name, age, company_name, domain, salary):\n",
    "        Person.__init__(self, name, age)\n",
    "        Company.__init__(self, company_name, domain)\n",
    "        self.salary = salary\n",
    "        \n",
    "    def employee_info(self):\n",
    "        super().person_info()\n",
    "        super().company_info()\n",
    "        print(f\"Salary: {self.salary}\")\n",
    "        \n",
    "\n",
    "person1 = Employee(\"Ankita\", 25, \"EMCURE\", \"Data Analytics\", 50000)\n",
    "person1.employee_info()"
   ]
  },
  {
   "cell_type": "markdown",
   "metadata": {},
   "source": [
    "3. Explain the terms \"base class\" and \"derived class\" in the context of inheritance."
   ]
  },
  {
   "cell_type": "markdown",
   "metadata": {},
   "source": [
    "**Base Class**: In terms of inheritance, base class is the top level class which is not inherited from no other classes other than `object` class itself\n",
    "\n",
    "**Derived Class**: In terms of inheritance, derived class is the class which inherits attributes and methods from one or multiple base classes"
   ]
  },
  {
   "cell_type": "markdown",
   "metadata": {},
   "source": [
    "4. What is the significance of the \"protected\" access modifier in inheritance? How does it differ from \"private\" and \"public\" modifiers?"
   ]
  },
  {
   "cell_type": "markdown",
   "metadata": {},
   "source": [
    "Access Modifiers basically defines the usability scope of any attribute & methods. Python uses `underscores` to specify access modifiers.\n",
    "They play an important role to protect the data from unauthorized access as well as protecting it from getting manipulated.\n",
    "\n",
    "**Public Access Modifier**: This is the default access modifiers and any attribute & method by-default is public which can be accessed anywhere within the class and outside the class as well. \n",
    "\n",
    "**Protected Access Modifier**: Attributes and methods declared as Protected are accessible to only subclass or derived class of it.\n",
    "\n",
    "**Private Access Modifier**: Attributes and methods declared as Private are only accessible wihtin the class and not outside of it."
   ]
  },
  {
   "cell_type": "code",
   "execution_count": 19,
   "metadata": {},
   "outputs": [
    {
     "name": "stdout",
     "output_type": "stream",
     "text": [
      "Welcome to  Stark Industries\n",
      "Here  Steve  is working on  Mark 4\n",
      "The salary of Steve is 9999999\n"
     ]
    }
   ],
   "source": [
    "# define parent class Company\n",
    "class Company:\n",
    "    # constructor\n",
    "    def __init__(self, name, proj):\n",
    "        self.name = name      # name(name of company) is public\n",
    "        self._proj = proj     # proj(current project) is protected defined with single underscore\n",
    "    \n",
    "    # public function to show the details\n",
    "    def show(self):\n",
    "        print(\"The code of the company\")\n",
    "\n",
    "# define child class Emp\n",
    "class Emp(Company):\n",
    "    # constructor\n",
    "    def __init__(self, eName, sal, cName, proj):\n",
    "        # calling parent class constructor\n",
    "        super().__init__(cName, proj)\n",
    "        self.name = eName   # public member variable\n",
    "        self.__sal = sal    # private member variable\n",
    "    \n",
    "    # public function to show salary details\n",
    "    def show_sal(self):\n",
    "        print(f\"The salary of {self.name} is {self.__sal}\")\n",
    "\n",
    "# creating instance of Company class\n",
    "c = Company(\"Stark Industries\", \"Mark 4\")\n",
    "# creating instance of Employee class\n",
    "e = Emp(\"Steve\", 9999999, c.name, c._proj)\n",
    "\n",
    "print(\"Welcome to \", c.name)\n",
    "print(\"Here \", e.name,\" is working on \",e._proj)\n",
    "\n",
    "# only the instance itself can change the __sal variable\n",
    "# and to show the value we have created a public function show_sal()\n",
    "e.show_sal()"
   ]
  },
  {
   "cell_type": "markdown",
   "metadata": {},
   "source": [
    "5. What is the purpose of the \"super\" keyword in inheritance? Provide an example."
   ]
  },
  {
   "cell_type": "markdown",
   "metadata": {},
   "source": [
    "super() keyword is used in derived class to refer to the base class methods.\n",
    "\n",
    "It gives you access to methods in a superclass from the derived class that inherits from it"
   ]
  },
  {
   "cell_type": "code",
   "execution_count": 27,
   "metadata": {},
   "outputs": [
    {
     "name": "stdout",
     "output_type": "stream",
     "text": [
      "Area: 169\n",
      "Perimeter: 52\n",
      "Area: 216\n",
      "Perimeter: 60\n"
     ]
    }
   ],
   "source": [
    "class Rectangle:\n",
    "    def __init__(self, length, width):\n",
    "        self.length = length\n",
    "        self.width = width\n",
    "\n",
    "    def area(self):\n",
    "        print(f\"Area: {self.length * self.width}\")\n",
    "\n",
    "    def perimeter(self):\n",
    "        print(f\"Perimeter: {2 * self.length + 2 * self.width}\")\n",
    "\n",
    "# Here we declare that the Square class inherits from the Rectangle class\n",
    "class Square(Rectangle):\n",
    "    def __init__(self, length):\n",
    "        super().__init__(length, length)\n",
    "        \n",
    "\n",
    "sq = Square(13)\n",
    "sq.area()\n",
    "sq.perimeter()\n",
    "\n",
    "rc = Rectangle(12, 18)\n",
    "rc.area()\n",
    "rc.perimeter()"
   ]
  },
  {
   "cell_type": "markdown",
   "metadata": {},
   "source": [
    "6. Create a base class called \"Vehicle\" with attributes like \"make\", \"model\", and \"year\". Then, create a derived class called \"Car\" that inherits from \"Vehicle\" and adds an attribute called \"fuel_type\". Implement appropriate methods in both classes."
   ]
  },
  {
   "cell_type": "code",
   "execution_count": 13,
   "metadata": {},
   "outputs": [
    {
     "name": "stdout",
     "output_type": "stream",
     "text": [
      "M&M XUV300 got started\n",
      "Fuel Type is Diesel\n"
     ]
    }
   ],
   "source": [
    "class Vehicle:\n",
    "    def __init__(self, make: str, model: str, year: str) -> None:\n",
    "        self.make = make\n",
    "        self.model = model\n",
    "        self.year = year\n",
    "    \n",
    "    def start_engine(self):\n",
    "        print(f\"{self.make} {self.model} got started\")\n",
    "        \n",
    "\n",
    "class Car(Vehicle):\n",
    "    def __init__(self, make: str, model: str, year: str, fuel_type: str) -> None:\n",
    "        super().__init__(make, model, year)\n",
    "        self.fuel_type = fuel_type\n",
    "        \n",
    "    def start_engine(self):\n",
    "        super().start_engine()\n",
    "        print(f\"Fuel Type is {self.fuel_type}\")\n",
    "\n",
    "\n",
    "my_car = Car(make=\"M&M\", model=\"XUV300\", year=\"2021\", fuel_type=\"Diesel\")\n",
    "my_car.start_engine()\n"
   ]
  },
  {
   "cell_type": "markdown",
   "metadata": {},
   "source": [
    "7. Create a base class called \"Employee\" with attributes like \"name\" and \"salary.\" Derive two classes, \"Manager\" and \"Developer,\" from \"Employee.\" Add an additional attribute called \"department\" for the \"Manager\" class and \"programming_language\" for the \"Developer\" class."
   ]
  },
  {
   "cell_type": "code",
   "execution_count": 12,
   "metadata": {},
   "outputs": [],
   "source": [
    "class Employee:\n",
    "    def __init__(self, name: str, salary: int) -> None:\n",
    "        self.name = name\n",
    "        self.salary = salary\n",
    "\n",
    "class Manager(Employee):\n",
    "    def __init__(self, name: str, salary: int, department: str) -> None:\n",
    "        super().__init__(name, salary)\n",
    "        self.department = department\n",
    "\n",
    "class Developer(Employee):\n",
    "    def __init__(self, name: str, salary: int, programming_language: str) -> None:\n",
    "        super().__init__(name, salary)\n",
    "        self.programming_language = programming_language\n",
    "        "
   ]
  },
  {
   "cell_type": "markdown",
   "metadata": {},
   "source": [
    "8. Design a base class called \"Shape\" with attributes like \"colour\" and \"border_width.\" Create derived classes, \"Rectangle\" and \"Circle,\" that inherit from \"Shape\" and add specific attributes like \"length\" and \"width\" for the \"Rectangle\" class and \"radius\" for the \"Circle\" class."
   ]
  },
  {
   "cell_type": "code",
   "execution_count": 4,
   "metadata": {},
   "outputs": [],
   "source": [
    "class Shape:\n",
    "    def __init__(self, colour: str, border_width: int) -> None:\n",
    "        self.colour = colour\n",
    "        self.border_width = border_width\n",
    "        \n",
    "class Rectangle(Shape):\n",
    "    def __init__(self, colour: str, border_width: int, length: int, width: int) -> None:\n",
    "        super().__init__(colour, border_width)\n",
    "        self.length = length\n",
    "        self.width = width\n",
    "        \n",
    "class Circle(Shape):\n",
    "    def __init__(self, colour: str, border_width: int, radius: int) -> None:\n",
    "        super().__init__(colour, border_width)\n",
    "        self.radius = radius"
   ]
  },
  {
   "cell_type": "markdown",
   "metadata": {},
   "source": [
    "9. Create a base class called \"Device\" with attributes like \"brand\" and \"model.\" Derive two classes, \"Phone\" and \"Tablet,\" from \"Device.\" Add specific attributes like \"screen_size\" for the \"Phone\" class and \"battery_capacity\" for the \"Tablet\" class."
   ]
  },
  {
   "cell_type": "code",
   "execution_count": 5,
   "metadata": {},
   "outputs": [],
   "source": [
    "class Device:\n",
    "    def __init__(self, brand: str, model: str) -> None:\n",
    "        self.brand = brand\n",
    "        self.model = model\n",
    "\n",
    "class Phone(Device):\n",
    "    def __init__(self, brand: str, model: str, screen_size: float) -> None:\n",
    "        super().__init__(brand, model)\n",
    "        self.screen_size = screen_size\n",
    "        \n",
    "        \n",
    "class Tablet(Device):\n",
    "    def __init__(self, brand: str, model: str, battery_capacity: int) -> None:\n",
    "        super().__init__(brand, model)\n",
    "        self.battery_capacity = battery_capacity"
   ]
  },
  {
   "cell_type": "markdown",
   "metadata": {},
   "source": [
    "10. Create a base class called \"BankAccount\" with attributes like \"account_number\" and \"balance.\" Derive two classes, \"SavingsAccount\" and \"CheckingAccount,\" from \"BankAccount.\" Add specific methods like \"calculate_interest\" for the \"SavingsAccount\" class and \"deduct_fees\" for the \"CheckingAccount\" class."
   ]
  },
  {
   "cell_type": "code",
   "execution_count": 11,
   "metadata": {},
   "outputs": [
    {
     "name": "stdout",
     "output_type": "stream",
     "text": [
      "Interest for the Account: 123456 is getting calculated on the Balance: 19000\n",
      "Fees will get deducted for the Account: 987654 from the Outstanding Balance: 80000\n"
     ]
    }
   ],
   "source": [
    "class BankAccount:\n",
    "    def __init__(self, account_number: str, balance: float) -> None:\n",
    "        self.account_number = account_number\n",
    "        self.balance = balance\n",
    "        \n",
    "class SavingsAccount(BankAccount):\n",
    "    def __init__(self, account_number: str, balance: float) -> None:\n",
    "        super().__init__(account_number, balance)\n",
    "        \n",
    "    def calculate_interest(self):\n",
    "        print(f\"Interest for the Account: {self.account_number} is getting calculated on the Balance: {self.balance}\")\n",
    "        \n",
    "class CheckingAccount(BankAccount):\n",
    "    def __init__(self, account_number: str, balance: float) -> None:\n",
    "        super().__init__(account_number, balance)\n",
    "    \n",
    "    def deduct_fees(self):\n",
    "        print(f\"Fees will get deducted for the Account: {self.account_number} from the Outstanding Balance: {self.balance}\")\n",
    "        \n",
    "    \n",
    "savings = SavingsAccount('123456', 19000)\n",
    "checking = CheckingAccount(\"987654\", 80000)\n",
    "\n",
    "savings.calculate_interest()\n",
    "checking.deduct_fees()"
   ]
  }
 ],
 "metadata": {
  "kernelspec": {
   "display_name": "Python 3 (ipykernel)",
   "language": "python",
   "name": "python3"
  },
  "language_info": {
   "codemirror_mode": {
    "name": "ipython",
    "version": 3
   },
   "file_extension": ".py",
   "mimetype": "text/x-python",
   "name": "python",
   "nbconvert_exporter": "python",
   "pygments_lexer": "ipython3",
   "version": "3.11.3"
  }
 },
 "nbformat": 4,
 "nbformat_minor": 2
}
